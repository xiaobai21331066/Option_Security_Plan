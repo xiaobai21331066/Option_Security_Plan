{
 "cells": [
  {
   "cell_type": "markdown",
   "metadata": {},
   "source": [
    "# 矩阵论"
   ]
  },
  {
   "cell_type": "markdown",
   "metadata": {},
   "source": [
    "## Hilbert matrix\n",
    "\n",
    "定义：\n",
    "\n",
    "$$\n",
    "H_{ij}=\\frac{1}{i+j-1}\n",
    "$$"
   ]
  },
  {
   "cell_type": "code",
   "execution_count": 1,
   "metadata": {},
   "outputs": [
    {
     "data": {
      "text/plain": [
       "array([[1.        , 0.5       , 0.33333333, 0.25      , 0.2       ],\n",
       "       [0.5       , 0.33333333, 0.25      , 0.2       , 0.16666667],\n",
       "       [0.33333333, 0.25      , 0.2       , 0.16666667, 0.14285714],\n",
       "       [0.25      , 0.2       , 0.16666667, 0.14285714, 0.125     ],\n",
       "       [0.2       , 0.16666667, 0.14285714, 0.125     , 0.11111111]])"
      ]
     },
     "execution_count": 1,
     "metadata": {},
     "output_type": "execute_result"
    }
   ],
   "source": [
    "import numpy as np\n",
    "X = 1. / (np.arange(1, 6) + np.arange(0, 5)[:, np.newaxis])\n",
    "X"
   ]
  },
  {
   "cell_type": "markdown",
   "metadata": {},
   "source": [
    "## Gram matrix\n",
    "定义：\n",
    "\n",
    "`n`维欧式空间中任意`k`个`(k < n)`向量$\\alpha_1,\\alpha_2,...,\\alpha_k$的内积所组成的矩阵。\n",
    "\n",
    "$$\n",
    "H_{ij}=(\\alpha_i, \\alpha_j)\n",
    "$$"
   ]
  },
  {
   "cell_type": "markdown",
   "metadata": {},
   "source": [
    "## Frobenius norm\n",
    "定义：\n",
    "$$\n",
    "\\sqrt{\\sum_i\\sum_j{x_{ij}^2}}\n",
    "$$"
   ]
  },
  {
   "cell_type": "markdown",
   "metadata": {},
   "source": [
    "$l_p$norm的解释：\n",
    "\n",
    "https://www.cnblogs.com/wangxiaocvpr/p/5933512.html"
   ]
  },
  {
   "cell_type": "markdown",
   "metadata": {
    "collapsed": true
   },
   "source": [
    "## pearson相关系数\n",
    "$$\n",
    "\\rho=\\frac{cov(xy)}{\\sqrt{Var(x)Var(y)}}\n",
    "$$\n",
    "\n",
    "其中协方差：\n",
    "$$\n",
    "cov(xy)=E((X-E(X)(Y-E(Y)))=E(XY-E(X)Y-XE(Y)+E(X)E(Y))=E(XY)-E(X)E(Y)\n",
    "$$"
   ]
  },
  {
   "cell_type": "code",
   "execution_count": null,
   "metadata": {
    "collapsed": true
   },
   "outputs": [],
   "source": []
  }
 ],
 "metadata": {
  "kernelspec": {
   "display_name": "Python 3",
   "language": "python",
   "name": "python3"
  },
  "language_info": {
   "codemirror_mode": {
    "name": "ipython",
    "version": 3
   },
   "file_extension": ".py",
   "mimetype": "text/x-python",
   "name": "python",
   "nbconvert_exporter": "python",
   "pygments_lexer": "ipython3",
   "version": "3.6.8"
  },
  "toc": {
   "nav_menu": {},
   "number_sections": true,
   "sideBar": true,
   "skip_h1_title": false,
   "toc_cell": false,
   "toc_position": {},
   "toc_section_display": "block",
   "toc_window_display": false
  }
 },
 "nbformat": 4,
 "nbformat_minor": 2
}
