{
 "cells": [
  {
   "cell_type": "markdown",
   "metadata": {},
   "source": [
    "```\n",
    "1. Supervised learning\n",
    "1.1. Generalized Linear Models\n",
    "1.2. Linear and Quadratic Discriminant Analysis\n",
    "1.3. Kernel ridge regression\n",
    "1.4. Support Vector Machines\n",
    "1.5. Stochastic Gradient Descent\n",
    "1.6. Nearest Neighbors\n",
    "1.7. Gaussian Processes\n",
    "1.8. Cross decomposition\n",
    "1.9. Naive Bayes\n",
    "1.10. Decision Trees\n",
    "1.11. Ensemble methods\n",
    "1.12. Multiclass and multilabel algorithms\n",
    "1.13. Feature selection\n",
    "1.14. Semi-Supervised\n",
    "1.15. Isotonic regression\n",
    "1.16. Probability calibration\n",
    "1.17. Neural network models (supervised)\n",
    "2. Unsupervised learning\n",
    "2.1. Gaussian mixture models\n",
    "2.2. Manifold learning\n",
    "2.3. Clustering\n",
    "2.4. Biclustering\n",
    "2.5. Decomposing signals in components (matrix factorization problems)\n",
    "2.6. Covariance estimation\n",
    "2.7. Novelty and Outlier Detection\n",
    "2.8. Density Estimation\n",
    "2.9. Neural network models (unsupervised)\n",
    "3. Model selection and evaluation\n",
    "3.1. Cross-validation: evaluating estimator performance\n",
    "3.2. Tuning the hyper-parameters of an estimator\n",
    "3.3. Model evaluation: quantifying the quality of predictions\n",
    "3.4. Model persistence\n",
    "3.5. Validation curves: plotting scores to evaluate models\n",
    "4. Inspection\n",
    "4.1. Partial dependence plots\n",
    "5. Dataset transformations\n",
    "5.1. Pipelines and composite estimators\n",
    "5.2. Feature extraction\n",
    "5.3. Preprocessing data\n",
    "5.4. Imputation of missing values\n",
    "5.5. Unsupervised dimensionality reduction\n",
    "5.6. Random Projection\n",
    "5.7. Kernel Approximation\n",
    "5.8. Pairwise metrics, Affinities and Kernels\n",
    "5.9. Transforming the prediction target (y)\n",
    "6. Dataset loading utilities\n",
    "6.1. General dataset API\n",
    "6.2. Toy datasets\n",
    "6.3. Real world datasets\n",
    "6.4. Generated datasets\n",
    "6.5. Loading other datasets\n",
    "7. Computing with scikit-learn\n",
    "7.1. Strategies to scale computationally: bigger data\n",
    "7.2. Computational Performance\n",
    "7.3. Parallelism, resource management, and configuration\n",
    "```"
   ]
  },
  {
   "cell_type": "markdown",
   "metadata": {},
   "source": [
    "# Supervised learning"
   ]
  },
  {
   "cell_type": "markdown",
   "metadata": {
    "heading_collapsed": true
   },
   "source": [
    "## 线性回归\n",
    "\n",
    "### ordinary least squares\n",
    "\n",
    "损失函数：\n",
    "\n",
    "$$\n",
    "min\\Vert{Xw-y}\\Vert_2^2\n",
    "$$\n",
    "\n",
    "优化方法：\n",
    "1. 梯度下降法\n",
    "2. 最小二乘法\n",
    "\n",
    "验证方法：\n",
    "\n"
   ]
  },
  {
   "cell_type": "markdown",
   "metadata": {
    "hidden": true
   },
   "source": [
    "### Ridge regression\n",
    "损失函数：\n",
    "$$\n",
    "min\\Vert{Xw-y}\\Vert_2^2+\\alpha\\Vert{w}\\Vert_2^2\n",
    "$$\n",
    "优化方法："
   ]
  },
  {
   "cell_type": "markdown",
   "metadata": {
    "hidden": true
   },
   "source": [
    "### Lasso \n",
    "损失函数：\n",
    "$$\n",
    "min\\frac{1}{2n_{samples}}\\Vert{Xw-y}\\Vert_2^2+\\alpha\\Vert{w}\\Vert_1\n",
    "$$\n",
    "优化方法："
   ]
  },
  {
   "cell_type": "markdown",
   "metadata": {
    "hidden": true
   },
   "source": [
    "### Elastic Net\n",
    "损失函数：\n",
    "$$min\n",
    "\\frac{1}{2n_{samples}}\\Vert{Xw-y}\\Vert_2^2+\\alpha\\rho\\Vert{w}\\Vert_1+\\alpha\\frac{1-\\rho}{2}\\Vert{w}\\Vert_2^2\n",
    "$$\n",
    "优化方法："
   ]
  },
  {
   "cell_type": "markdown",
   "metadata": {
    "hidden": true
   },
   "source": [
    "### Multi-task Lasso\n",
    "损失函数：\n",
    "$$\n",
    "min\\frac{1}{2n_{samples}}\\Vert{Xw-y}\\Vert_{Fro}^2+\\alpha\\Vert{w}\\Vert_{21}\n",
    "$$\n",
    "其中\n",
    "$$\n",
    "\\Vert{A}\\Vert_{Fro}=\\sqrt{\\sum_{ij}{x_{ij}^2}}\n",
    "$$\n",
    "且\n",
    "$$\n",
    "\\Vert{A}\\Vert_{21}=\\sum_i\\sqrt{\\sum_j{x_{ij}^2}}\n",
    "$$\n",
    "优化方法："
   ]
  },
  {
   "cell_type": "markdown",
   "metadata": {
    "hidden": true
   },
   "source": [
    "### Multi-task Elestic-Net\n",
    "损失函数：\n",
    "$$\n",
    "min\\frac{1}{2n_{samples}}\\Vert{Xw-y}\\Vert_{Fro}^2+\\alpha\\rho\\Vert{w}\\Vert_{21}+\\alpha\\frac{1-\\rho}{2}\\Vert{w}\\Vert_{Fro}^2\n",
    "$$"
   ]
  },
  {
   "cell_type": "markdown",
   "metadata": {
    "hidden": true
   },
   "source": [
    "### Orthogonal Matching Pursuit\n",
    "损失函数：\n",
    "$$\n",
    "argmin_\\gamma\\Vert{y-X\\gamma}\\Vert_2^2\\quad subject\\quad to\\quad \\Vert{\\gamma}\\Vert_0\\le{n_{nonzero\\_coef}}\n",
    "$$"
   ]
  },
  {
   "cell_type": "markdown",
   "metadata": {
    "hidden": true
   },
   "source": [
    "### Bayesian regression\n",
    "损失函数：\n",
    "？？\n",
    "\n",
    "模型：\n",
    "$$\n",
    "p(y\\vert{X,w,\\alpha})=\\aleph(y\\vert{Xw,\\alpha})\n",
    "$$"
   ]
  },
  {
   "cell_type": "markdown",
   "metadata": {
    "hidden": true
   },
   "source": [
    "#### Bayesian Ridge regression\n",
    "模型：\n",
    "$$\n",
    "p(w\\vert\\lambda)=\\aleph(0, \\lambda^{-1}I)\n",
    "$$"
   ]
  },
  {
   "cell_type": "markdown",
   "metadata": {
    "hidden": true
   },
   "source": [
    "#### Automatic Relevance Determination\n",
    "模型：\n",
    "$$\n",
    "p(w\\vert{\\lambda})=\\aleph(w\\vert{0,A^{-1}})\n",
    "$$\n",
    "\n",
    "其中：\n",
    "$$\n",
    "diag(A)=\\lambda=\\{\\lambda_1,\\lambda_2,\\ldots,\\lambda_p\\}\n",
    "$$"
   ]
  },
  {
   "cell_type": "markdown",
   "metadata": {
    "hidden": true
   },
   "source": [
    "### Logistic regression"
   ]
  },
  {
   "cell_type": "markdown",
   "metadata": {
    "heading_collapsed": true
   },
   "source": [
    "## Probability Calibration"
   ]
  },
  {
   "cell_type": "markdown",
   "metadata": {
    "hidden": true
   },
   "source": [
    " 依据Brier's score来进行概率校准"
   ]
  },
  {
   "cell_type": "markdown",
   "metadata": {
    "heading_collapsed": true
   },
   "source": [
    "## Feature selection"
   ]
  },
  {
   "cell_type": "markdown",
   "metadata": {
    "hidden": true
   },
   "source": [
    "GenericUnivariateSelect([…])\tUnivariate feature selector with configurable strategy.\n",
    "SelectPercentile([…])\tSelect features according to a percentile of the highest scores.\n",
    "SelectKBest([score_func, k])\tSelect features according to the k highest scores.\n",
    "SelectFpr([score_func, alpha])\tFilter: Select the pvalues below alpha based on a FPR test.\n",
    "SelectFdr([score_func, alpha])\tFilter: Select the p-values for an estimated false discovery rate\n",
    "SelectFromModel(estimator)\tMeta-transformer for selecting features based on importance weights.\n",
    "SelectFwe([score_func, alpha])\tFilter: Select the p-values corresponding to Family-wise error rate\n",
    "RFE(estimator[, …])\tFeature ranking with recursive feature elimination.\n",
    "RFECV(estimator[, step, …])\tFeature ranking with recursive feature elimination and cross-validated selection of the best number of features.\n",
    "VarianceThreshold([threshold])\tFeature selector that removes all low-variance features.\n",
    "chi2(X, y)\tCompute chi-squared stats between each non-negative feature and class.\n",
    "f_classif(X, y)\tCompute the ANOVA F-value for the provided sample.\n",
    "f_regression(X, y[, center])\tUnivariate linear regression tests.\n",
    "mutual_info_classif(X, y)\tEstimate mutual information for a discrete target variable.\n",
    "mutual_info_regression(X, y)\tEstimate mutual information for a continuous target variable.\n",
    "\n",
    "**chi2**"
   ]
  },
  {
   "cell_type": "markdown",
   "metadata": {
    "heading_collapsed": true
   },
   "source": [
    "## Cross decomposition"
   ]
  },
  {
   "cell_type": "markdown",
   "metadata": {
    "hidden": true
   },
   "source": [
    "### PLS-Partial Least Square\n",
    "\n",
    "偏最小二乘法"
   ]
  },
  {
   "cell_type": "markdown",
   "metadata": {
    "hidden": true
   },
   "source": [
    "### CCA-Conanical Correlated Analysis\n",
    "典型相关性分析"
   ]
  },
  {
   "cell_type": "markdown",
   "metadata": {
    "hidden": true
   },
   "source": [
    "cross_decomposition.CCA([n_components, …])\tCCA Canonical Correlation Analysis.\n",
    "cross_decomposition.PLSCanonical([…])\tPLSCanonical implements the 2 blocks canonical PLS of the original Wold algorithm [Tenenhaus 1998] p.204, referred as PLS-C2A in [Wegelin 2000].\n",
    "cross_decomposition.PLSRegression([…])\tPLS regression\n",
    "cross_decomposition.PLSSVD([n_components, …])\tPartial Least Square SVD"
   ]
  },
  {
   "cell_type": "markdown",
   "metadata": {},
   "source": [
    "# Unsupervised learning"
   ]
  },
  {
   "cell_type": "markdown",
   "metadata": {},
   "source": [
    "## Gaussian mixture models"
   ]
  },
  {
   "cell_type": "code",
   "execution_count": null,
   "metadata": {
    "collapsed": true
   },
   "outputs": [],
   "source": []
  },
  {
   "cell_type": "markdown",
   "metadata": {},
   "source": [
    "## Manifold learning"
   ]
  },
  {
   "cell_type": "markdown",
   "metadata": {},
   "source": [
    "## Clustering"
   ]
  },
  {
   "cell_type": "markdown",
   "metadata": {},
   "source": [
    "## Biclustering"
   ]
  },
  {
   "cell_type": "markdown",
   "metadata": {},
   "source": [
    "## Decomposing signals in components (matrix factorization problems)"
   ]
  },
  {
   "cell_type": "markdown",
   "metadata": {},
   "source": [
    "## Covariance estimation"
   ]
  },
  {
   "cell_type": "markdown",
   "metadata": {},
   "source": [
    "## Novelty and Outlier Detection"
   ]
  },
  {
   "cell_type": "markdown",
   "metadata": {},
   "source": [
    "## Density Estimation"
   ]
  },
  {
   "cell_type": "markdown",
   "metadata": {},
   "source": [
    "## Neural network models (unsupervised)"
   ]
  },
  {
   "cell_type": "code",
   "execution_count": null,
   "metadata": {
    "collapsed": true
   },
   "outputs": [],
   "source": []
  },
  {
   "cell_type": "markdown",
   "metadata": {},
   "source": [
    "# 检验\n",
    "## 部分依赖图\n",
    "```\n",
    "inspection.partial_dependence(estimator, X, …)\tPartial dependence of features.\n",
    "inspection.plot_partial_dependence(…[, …])\tPartial dependence plots.\n",
    "```\n",
    "主要用于检验特征与target之间的依赖关系"
   ]
  },
  {
   "cell_type": "code",
   "execution_count": null,
   "metadata": {
    "collapsed": true
   },
   "outputs": [],
   "source": []
  }
 ],
 "metadata": {
  "kernelspec": {
   "display_name": "Python 3",
   "language": "python",
   "name": "python3"
  },
  "language_info": {
   "codemirror_mode": {
    "name": "ipython",
    "version": 3
   },
   "file_extension": ".py",
   "mimetype": "text/x-python",
   "name": "python",
   "nbconvert_exporter": "python",
   "pygments_lexer": "ipython3",
   "version": "3.6.8"
  },
  "toc": {
   "nav_menu": {},
   "number_sections": true,
   "sideBar": true,
   "skip_h1_title": false,
   "toc_cell": false,
   "toc_position": {},
   "toc_section_display": "block",
   "toc_window_display": false
  }
 },
 "nbformat": 4,
 "nbformat_minor": 2
}
