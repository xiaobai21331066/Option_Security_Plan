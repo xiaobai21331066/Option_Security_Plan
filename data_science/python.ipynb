{
 "cells": [
  {
   "cell_type": "markdown",
   "metadata": {
    "Collapsed": "false"
   },
   "source": [
    "# 正则表达式"
   ]
  },
  {
   "cell_type": "markdown",
   "metadata": {
    "Collapsed": "false"
   },
   "source": [
    "## 特殊字符\n",
    "        \".\"      Matches any character except a newline.\n",
    "        \"^\"      Matches the start of the string.\n",
    "        \"$\"      Matches the end of the string or just before the newline at\n",
    "                 the end of the string.\n",
    "        \"*\"      Matches 0 or more (greedy) repetitions of the preceding RE.\n",
    "                 Greedy means that it will match as many repetitions as possible.\n",
    "        \"+\"      Matches 1 or more (greedy) repetitions of the preceding RE.\n",
    "        \"?\"      Matches 0 or 1 (greedy) of the preceding RE.\n",
    "        *?,+?,?? Non-greedy versions of the previous three special characters.\n",
    "        {m,n}    Matches from m to n repetitions of the preceding RE.\n",
    "        {m,n}?   Non-greedy version of the above.\n",
    "        \"\\\\\"     Either escapes special characters or signals a special sequence.\n",
    "        []       Indicates a set of characters.\n",
    "                 A \"^\" as the first character indicates a complementing set.\n",
    "        \"|\"      A|B, creates an RE that will match either A or B.\n",
    "        (...)    Matches the RE inside the parentheses.\n",
    "                 The contents can be retrieved or matched later in the string.\n",
    "        (?aiLmsux) Set the A, I, L, M, S, U, or X flag for the RE (see below).\n",
    "        (?:...)  Non-grouping version of regular parentheses.\n",
    "        (?P<name>...) The substring matched by the group is accessible by name.\n",
    "        (?P=name)     Matches the text matched earlier by the group named name.\n",
    "        (?#...)  A comment; ignored.\n",
    "        (?=...)  Matches if ... matches next, but doesn't consume the string.\n",
    "        (?!...)  Matches if ... doesn't match next.\n",
    "        (?<=...) Matches if preceded by ... (must be fixed length).\n",
    "        (?<!...) Matches if not preceded by ... (must be fixed length).\n",
    "        (?(id/name)yes|no) Matches yes pattern if the group with id/name matched,\n",
    "                           the (optional) no pattern otherwise.\n",
    "                           \n",
    "        \\number  Matches the contents of the group of the same number.\n",
    "        \\A       Matches only at the start of the string.\n",
    "        \\Z       Matches only at the end of the string.\n",
    "        \\b       Matches the empty string, but only at the start or end of a word.\n",
    "        \\B       Matches the empty string, but not at the start or end of a word.\n",
    "        \\d       Matches any decimal digit; equivalent to the set [0-9] in\n",
    "                 bytes patterns or string patterns with the ASCII flag.\n",
    "                 In string patterns without the ASCII flag, it will match the whole\n",
    "                 range of Unicode digits.\n",
    "        \\D       Matches any non-digit character; equivalent to [^\\d].\n",
    "        \\s       Matches any whitespace character; equivalent to [ \\t\\n\\r\\f\\v] in\n",
    "                 bytes patterns or string patterns with the ASCII flag.\n",
    "                 In string patterns without the ASCII flag, it will match the whole\n",
    "                 range of Unicode whitespace characters.\n",
    "        \\S       Matches any non-whitespace character; equivalent to [^\\s].\n",
    "        \\w       Matches any alphanumeric character; equivalent to [a-zA-Z0-9_]\n",
    "                 in bytes patterns or string patterns with the ASCII flag.\n",
    "                 In string patterns without the ASCII flag, it will match the\n",
    "                 range of Unicode alphanumeric characters (letters plus digits\n",
    "                 plus underscore).\n",
    "                 With LOCALE, it will match the set [0-9_] plus characters defined\n",
    "                 as letters for the current locale.\n",
    "        \\W       Matches the complement of \\w.\n",
    "        \\\\       Matches a literal backslash.\n",
    "        \n",
    "        match     Match a regular expression pattern to the beginning of a string.\n",
    "        fullmatch Match a regular expression pattern to all of a string.\n",
    "        search    Search a string for the presence of a pattern.\n",
    "        sub       Substitute occurrences of a pattern found in a string.\n",
    "        subn      Same as sub, but also return the number of substitutions made.\n",
    "        split     Split a string by the occurrences of a pattern.\n",
    "        findall   Find all occurrences of a pattern in a string.\n",
    "        finditer  Return an iterator yielding a match object for each match.\n",
    "        compile   Compile a pattern into a RegexObject.\n",
    "        purge     Clear the regular expression cache.\n",
    "        escape    Backslash all non-alphanumerics in a string.\n",
    "        \n",
    "        \n",
    "         A  ASCII       For string patterns, make \\w, \\W, \\b, \\B, \\d, \\D\n",
    "                       match the corresponding ASCII character categories\n",
    "                       (rather than the whole Unicode categories, which is the\n",
    "                       default).\n",
    "                       For bytes patterns, this flag is the only available\n",
    "                       behaviour and needn't be specified.\n",
    "        I  IGNORECASE  Perform case-insensitive matching.\n",
    "        L  LOCALE      Make \\w, \\W, \\b, \\B, dependent on the current locale.\n",
    "        M  MULTILINE   \"^\" matches the beginning of lines (after a newline)\n",
    "                       as well as the string.\n",
    "                       \"$\" matches the end of lines (before a newline) as well\n",
    "                       as the end of the string.\n",
    "        S  DOTALL      \".\" matches any character at all, including the newline.\n",
    "        X  VERBOSE     Ignore whitespace and comments for nicer looking RE's.\n",
    "        U  UNICODE     For compatibility only. Ignored for string patterns (it\n",
    "                       is the default), and forbidden for bytes patterns."
   ]
  },
  {
   "cell_type": "code",
   "execution_count": null,
   "metadata": {
    "Collapsed": "false"
   },
   "outputs": [],
   "source": []
  }
 ],
 "metadata": {
  "kernelspec": {
   "display_name": "Python 3",
   "language": "python",
   "name": "python3"
  },
  "language_info": {
   "codemirror_mode": {
    "name": "ipython",
    "version": 3
   },
   "file_extension": ".py",
   "mimetype": "text/x-python",
   "name": "python",
   "nbconvert_exporter": "python",
   "pygments_lexer": "ipython3",
   "version": "3.6.9"
  }
 },
 "nbformat": 4,
 "nbformat_minor": 4
}
