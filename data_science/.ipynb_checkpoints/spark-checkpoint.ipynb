{
 "cells": [
  {
   "cell_type": "markdown",
   "metadata": {},
   "source": [
    "# 环境配置\n",
    "## 安装\n",
    "### 安装java8\n",
    "下载连接：http://www.oracle.com/technetwork/java/javase/downloads/jdk8-downloads-2133151.html\n",
    "\n",
    "配置：\n",
    "```\n",
    "JAVA_HOME=C:\\Program Files\\Java\\jdk1.8.0_131\n",
    "PATH=$PATH;%JAVA_HOME%\\bin;%JAVA_HOME%\\jre\\bin\n",
    "CLASSPATH=.;%JAVA_HOME%\\lib\\\n",
    "```\n",
    "\n",
    "### 安装hadoop\n",
    "下载连接：https://spark.apache.org/downloads.html\n",
    "\n",
    "\n",
    "\n"
   ]
  }
 ],
 "metadata": {
  "kernelspec": {
   "display_name": "Python 3",
   "language": "python",
   "name": "python3"
  },
  "language_info": {
   "codemirror_mode": {
    "name": "ipython",
    "version": 3
   },
   "file_extension": ".py",
   "mimetype": "text/x-python",
   "name": "python",
   "nbconvert_exporter": "python",
   "pygments_lexer": "ipython3",
   "version": "3.6.9"
  }
 },
 "nbformat": 4,
 "nbformat_minor": 4
}
