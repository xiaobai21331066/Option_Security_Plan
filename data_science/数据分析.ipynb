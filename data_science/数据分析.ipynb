{
 "cells": [
  {
   "cell_type": "markdown",
   "metadata": {
    "Collapsed": "false"
   },
   "source": [
    "数据分析技术栈\n",
    "- python\n",
    " - 正则表达式\n",
    " - 多线程与多进程\n",
    " - 文本处理\n",
    "- 线性代数\n",
    "- 概率论与数理统计\n",
    "- 机器学习\n",
    "- numpy\n",
    "- 开源库\n",
    "- 题库\n",
    "\n",
    "数据科学能力矩阵图：\n",
    "![Image](./src/数据科学能力矩阵.jpg)"
   ]
  },
  {
   "cell_type": "markdown",
   "metadata": {
    "Collapsed": "false"
   },
   "source": [
    "## 题库\n",
    "### leetcode-SQL题库\n",
    "### kaggle题库\n",
    "### 19个数据集\n"
   ]
  },
  {
   "cell_type": "markdown",
   "metadata": {
    "Collapsed": "false"
   },
   "source": [
    "## 概率论与数理统计\n",
    "评测A/B分组\n",
    "\n",
    "计算P值\n",
    "\n",
    "统计显著性均值"
   ]
  }
 ],
 "metadata": {
  "kernelspec": {
   "display_name": "Python 3",
   "language": "python",
   "name": "python3"
  },
  "language_info": {
   "codemirror_mode": {
    "name": "ipython",
    "version": 3
   },
   "file_extension": ".py",
   "mimetype": "text/x-python",
   "name": "python",
   "nbconvert_exporter": "python",
   "pygments_lexer": "ipython3",
   "version": "3.6.9"
  }
 },
 "nbformat": 4,
 "nbformat_minor": 4
}
