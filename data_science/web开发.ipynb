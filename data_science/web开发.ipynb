{
 "cells": [
  {
   "cell_type": "markdown",
   "metadata": {
    "Collapsed": "false"
   },
   "source": [
    "## 环境配置\n",
    "### 创建虚拟环境\n",
    "conda create -n  flask_vue_white python=3.6\n",
    "### 安装nodejs\n",
    "```\n",
    "conda install -c conda-forge nodejs\n",
    "# 安装cnpm，默认使用淘宝镜像\n",
    "npm install -g cnpm --registry=https://registry.npm.taobao.org\n",
    "# 如果仍需要使用npm，则设置registery\n",
    "npm config set registry https://registry.npm.taobao.org\n",
    "```\n"
   ]
  },
  {
   "cell_type": "markdown",
   "metadata": {
    "Collapsed": "false"
   },
   "source": [
    "## 后端开发\n",
    "\n",
    "### 模块\n",
    "- flask\n",
    " - 功能：\n",
    "- pipenv\n",
    " - 功能：\n",
    " - 安装：\n",
    " "
   ]
  },
  {
   "cell_type": "markdown",
   "metadata": {
    "Collapsed": "false"
   },
   "source": [
    "## 前端开发\n",
    "\n",
    "### 模块\n",
    "- 通用模块\n",
    " - vue-cli\n",
    "  - 安装：npm install @vue/cli -g\n",
    "  - 功能：\n",
    "  - 官方文档：https://cli.vuejs.org/zh/guide/\n",
    " - vue\n",
    "  - 功能：一套用于构建用户界面的渐进式框架.\n",
    "  - 安装：\n",
    "  - 官方文档：https://cn.vuejs.org/v2/guide/\n",
    "- 应用专有模块\n",
    " - \n",
    " \n",
    "### 开发流程\n",
    "```\n",
    "vue create flask_vue_white\n",
    "# 选择生成默认配置文件\n",
    "位置：~/.vuerc\n",
    "{\n",
    "  \"useTaobaoRegistry\": false,\n",
    "  \"packageManager\": \"npm\",\n",
    "  \"presets\": {\n",
    "    \"whiteset\": {\n",
    "      \"useConfigFiles\": true,\n",
    "      \"plugins\": {\n",
    "        \"@vue/cli-plugin-babel\": {},\n",
    "        \"@vue/cli-plugin-eslint\": {\n",
    "          \"config\": \"standard\",\n",
    "          \"lintOn\": [\n",
    "            \"save\"\n",
    "          ]\n",
    "        }\n",
    "      },\n",
    "      \"router\": true,\n",
    "      \"routerHistoryMode\": true,\n",
    "      \"vuex\": true,\n",
    "      \"cssPreprocessor\": \"node-sass\"\n",
    "    }\n",
    "  }\n",
    "}\n",
    "```"
   ]
  }
 ],
 "metadata": {
  "kernelspec": {
   "display_name": "Python 3",
   "language": "python",
   "name": "python3"
  },
  "language_info": {
   "codemirror_mode": {
    "name": "ipython",
    "version": 3
   },
   "file_extension": ".py",
   "mimetype": "text/x-python",
   "name": "python",
   "nbconvert_exporter": "python",
   "pygments_lexer": "ipython3",
   "version": "3.6.9"
  }
 },
 "nbformat": 4,
 "nbformat_minor": 4
}
