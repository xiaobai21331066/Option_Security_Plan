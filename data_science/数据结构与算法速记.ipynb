{
 "cells": [
  {
   "cell_type": "code",
   "execution_count": null,
   "metadata": {
    "Collapsed": "false"
   },
   "outputs": [],
   "source": []
  },
  {
   "cell_type": "markdown",
   "metadata": {
    "Collapsed": "false"
   },
   "source": [
    "## 数据结构\n",
    "- 线性表\n",
    "  - 顺序存储结构\n",
    "  - 链式存储结构\n",
    "    - 单链表\n",
    "      - 应用\n",
    "    - 双向链表\n",
    "      - 应用\n",
    "    - 循环链表\n",
    "      - 应用\n",
    "    - 静态链表\n",
    "      - 应用\n",
    "- 栈\n",
    "  - 顺序存储结构\n",
    "  - 链式存储结构\n",
    "  - 应用：递归\n",
    "- 队列\n",
    "  - 顺序存储结构\n",
    "  - 链式存储结构\n",
    "  - 应用：递归\n",
    "- 串\n",
    "  - 顺序存储结构\n",
    "  - 链式存储结构\n",
    "  - 模式匹配算法：朴素/KMP\n",
    "- 树\n",
    "  - 存储结构\n",
    "    - 双亲表示法\n",
    "    - 孩子兄弟表示法\n",
    "    - 孩子表示法\n",
    "  - 二叉树\n",
    "    - 存储结构\n",
    "      - 顺序\n",
    "      - 链表\n",
    "    - 遍历算法\n",
    "      - 前序\n",
    "      - 中序\n",
    "      - 后序\n",
    "- 图\n",
    "  - 存储结构\n",
    "    - 邻接矩阵\n",
    "    - 邻接多重表\n",
    "    - 邻接表\n",
    "    - 十字链表\n",
    "    - 边集数组\n",
    "  - 遍历算法\n",
    "    - 深度优先\n",
    "    - 广度优先\n",
    "## 算法\n",
    "- 查找\n",
    "  - 顺序表查找\n",
    "  - 有序表查找\n",
    "  - 线性索引查找\n",
    "  - 二叉排序树\n",
    "  - 平衡二叉树\n",
    "  - 多路查找树\n",
    "  - 散列表查找\n",
    "- 排序\n",
    "  - 冒泡排序\n",
    "  - 简单选择排序\n",
    "  - 直接插入排序\n",
    "  - 希尔排序\n",
    "  - 堆排序\n",
    "  - 归并排序\n",
    "  - 快速排序"
   ]
  },
  {
   "cell_type": "code",
   "execution_count": null,
   "metadata": {
    "Collapsed": "false"
   },
   "outputs": [],
   "source": []
  }
 ],
 "metadata": {
  "kernelspec": {
   "display_name": "Python 3",
   "language": "python",
   "name": "python3"
  },
  "language_info": {
   "codemirror_mode": {
    "name": "ipython",
    "version": 3
   },
   "file_extension": ".py",
   "mimetype": "text/x-python",
   "name": "python",
   "nbconvert_exporter": "python",
   "pygments_lexer": "ipython3",
   "version": "3.6.9"
  }
 },
 "nbformat": 4,
 "nbformat_minor": 4
}
