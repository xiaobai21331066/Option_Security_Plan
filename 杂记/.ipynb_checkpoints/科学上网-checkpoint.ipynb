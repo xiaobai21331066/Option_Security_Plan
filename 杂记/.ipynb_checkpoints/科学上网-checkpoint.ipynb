{
 "cells": [
  {
   "cell_type": "markdown",
   "metadata": {},
   "source": [
    "**ios 客户端**\n",
    "1. 在计算云中输入如下命令生成access key。\n",
    "```\n",
    "echo -n aes-256-cfb:b00377837 |base64\n",
    "```\n",
    "其中aes-256-cfb是前面选择的加密方式，b00377837是密码\n",
    "\n",
    "2. store中下载`outline app`。\n",
    "\n",
    "3. 将1生成access key输入进去，即可科学上网。"
   ]
  },
  {
   "cell_type": "code",
   "execution_count": null,
   "metadata": {
    "collapsed": true
   },
   "outputs": [],
   "source": []
  }
 ],
 "metadata": {
  "kernelspec": {
   "display_name": "Python 3",
   "language": "python",
   "name": "python3"
  },
  "language_info": {
   "codemirror_mode": {
    "name": "ipython",
    "version": 3
   },
   "file_extension": ".py",
   "mimetype": "text/x-python",
   "name": "python",
   "nbconvert_exporter": "python",
   "pygments_lexer": "ipython3",
   "version": "3.6.8"
  },
  "toc": {
   "nav_menu": {},
   "number_sections": true,
   "sideBar": true,
   "skip_h1_title": false,
   "toc_cell": false,
   "toc_position": {},
   "toc_section_display": "block",
   "toc_window_display": false
  }
 },
 "nbformat": 4,
 "nbformat_minor": 2
}
