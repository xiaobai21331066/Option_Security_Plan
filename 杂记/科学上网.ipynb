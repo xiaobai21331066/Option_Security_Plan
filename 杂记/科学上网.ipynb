{
 "cells": [
  {
   "cell_type": "markdown",
   "metadata": {
    "Collapsed": "false"
   },
   "source": [
    "**ios 客户端**\n",
    "1. 在计算云中输入如下命令生成access key。\n",
    "```\n",
    "echo -n aes-256-cfb:b00377837 |base64\n",
    "```\n",
    "其中aes-256-cfb是前面选择的加密方式，b00377837是密码\n",
    "\n",
    "2. store中下载`outline app`。\n",
    "\n",
    "3. 将1生成access key输入进去，即可科学上网。"
   ]
  },
  {
   "cell_type": "markdown",
   "metadata": {
    "Collapsed": "false",
    "jupyter": {
     "outputs_hidden": true
    }
   },
   "source": [
    "安装方法：\n",
    "```\n",
    "wget --no-check-certificate -O shadowsocks.sh https://raw.githubusercontent.com/teddysun/shadowsocks_install/master/shadowsocks.sh\n",
    "chmod +x shadowsocks.sh\n",
    "./shadowsocks.sh 2>&1 | tee shadowsocks.log\n",
    "```\n",
    "卸载方法\n",
    "```\n",
    "./shadowsocks.sh uninstall\n",
    "```\n",
    "配置文件路径：\n",
    "```\n",
    "/etc/shadowsocks.json\n",
    "{\n",
    "    \"server\":\"0.0.0.0\",\n",
    "    \"server_port\":38152,\n",
    "    \"local_address\":\"127.0.0.1\",\n",
    "    \"local_port\":1080,\n",
    "    \"password\":\"b00377837\",\n",
    "    \"timeout\":300,\n",
    "    \"method\":\"aes-256-cfb\",\n",
    "    \"fast_open\": false\n",
    "}\n",
    "```\n",
    "\n",
    "启动、停止：\n",
    "```\n",
    "/etc/init.d/shadowsocks-python start\n",
    "/etc/init.d/shadowsocks-python restart\n",
    "/etc/init.d/shadowsocks-python stop\n",
    "/etc/init.d/shadowsocks-python status\n",
    "```"
   ]
  }
 ],
 "metadata": {
  "kernelspec": {
   "display_name": "Python 3",
   "language": "python",
   "name": "python3"
  },
  "language_info": {
   "codemirror_mode": {
    "name": "ipython",
    "version": 3
   },
   "file_extension": ".py",
   "mimetype": "text/x-python",
   "name": "python",
   "nbconvert_exporter": "python",
   "pygments_lexer": "ipython3",
   "version": "3.6.9"
  },
  "toc": {
   "nav_menu": {},
   "number_sections": true,
   "sideBar": true,
   "skip_h1_title": false,
   "toc_cell": false,
   "toc_position": {},
   "toc_section_display": "block",
   "toc_window_display": false
  }
 },
 "nbformat": 4,
 "nbformat_minor": 4
}
